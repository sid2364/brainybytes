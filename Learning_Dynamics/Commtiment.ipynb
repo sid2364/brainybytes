{
 "cells": [
  {
   "cell_type": "markdown",
   "id": "32395cf6-658e-4def-a8c2-ada1ed40e23d",
   "metadata": {},
   "source": [
    "##Reproduction of the results in the paper \"Good Agreements make good friends\" Anh et al. 2013"
   ]
  },
  {
   "cell_type": "code",
   "execution_count": 1,
   "id": "585e2e17-e961-4a8d-bfd1-85a64c827cd2",
   "metadata": {},
   "outputs": [],
   "source": [
    "import numpy as np\n",
    "import matplotlib.pyplot as plt\n",
    "#%matplotlib inline\n",
    "import os"
   ]
  },
  {
   "cell_type": "code",
   "execution_count": 2,
   "id": "1baff396-86de-4aaf-b260-413f4c952134",
   "metadata": {},
   "outputs": [],
   "source": [
    "import egttools as egt"
   ]
  },
  {
   "cell_type": "code",
   "execution_count": 3,
   "id": "41060ae8-2ee5-4ee8-bc8b-20f99947d12a",
   "metadata": {},
   "outputs": [],
   "source": [
    "egt.Random.init()\n",
    "seed = egt.Random._seed"
   ]
  },
  {
   "cell_type": "code",
   "execution_count": 4,
   "id": "e27a9dd4-0de7-4eb9-a021-f885f66173b1",
   "metadata": {},
   "outputs": [],
   "source": [
    "# Payoff matrix\n",
    "R=1;P=0;T=2;S=-1\n",
    "beta=0.1\n",
    "delta=4\n",
    "eps=0.25\n",
    "\n",
    "A = np.array([\n",
    "        [ R-(eps/2), R-eps,0,S+delta-eps,R-eps],\n",
    "        [R,R,S,S,S],\n",
    "        [0,T,P,P,P],\n",
    "        [T-delta,T,P,P,P],\n",
    "        [R,T,P,P,P],\n",
    "    ])"
   ]
  },
  {
   "cell_type": "code",
   "execution_count": 5,
   "id": "bbe8d619-2c78-4e61-b14a-f93f91f71e60",
   "metadata": {},
   "outputs": [
    {
     "data": {
      "text/plain": [
       "array([[ 0.875,  0.75 ,  0.   ,  2.75 ,  0.75 ],\n",
       "       [ 1.   ,  1.   , -1.   , -1.   , -1.   ],\n",
       "       [ 0.   ,  2.   ,  0.   ,  0.   ,  0.   ],\n",
       "       [-2.   ,  2.   ,  0.   ,  0.   ,  0.   ],\n",
       "       [ 1.   ,  2.   ,  0.   ,  0.   ,  0.   ]])"
      ]
     },
     "execution_count": 5,
     "metadata": {},
     "output_type": "execute_result"
    }
   ],
   "source": [
    "A"
   ]
  },
  {
   "cell_type": "code",
   "execution_count": 6,
   "id": "68d51d42-fc45-4de9-bc97-ba884d55368f",
   "metadata": {},
   "outputs": [],
   "source": [
    "strategy_labels=['Commit','C','D','Fake','Free']"
   ]
  },
  {
   "cell_type": "code",
   "execution_count": 7,
   "id": "157581b5-815d-46eb-bf7c-d54917ae0de5",
   "metadata": {},
   "outputs": [
    {
     "data": {
      "text/plain": [
       "['Commit', 'C', 'D', 'Fake', 'Free']"
      ]
     },
     "execution_count": 7,
     "metadata": {},
     "output_type": "execute_result"
    }
   ],
   "source": [
    "strategy_labels"
   ]
  },
  {
   "cell_type": "code",
   "execution_count": null,
   "id": "62fb442a-9996-46cb-8b8d-2e3b55432f10",
   "metadata": {},
   "outputs": [],
   "source": [
    "game = egt.games.Matrix2PlayerGameHolder(5, A)"
   ]
  },
  {
   "cell_type": "code",
   "execution_count": null,
   "id": "b22e2875-5433-4a73-8afe-d26d4e435dbf",
   "metadata": {},
   "outputs": [],
   "source": [
    "Z=100\n",
    "evolver = egt.analytical.PairwiseComparison(Z, game)"
   ]
  },
  {
   "cell_type": "code",
   "execution_count": null,
   "id": "7cf5f07e-b54a-4491-8005-dfcc6f9658a3",
   "metadata": {},
   "outputs": [],
   "source": [
    "beta=0.1\n",
    "transition_matrix,fixation_probabilities = evolver.calculate_transition_and_fixation_matrix_sml(beta)\n",
    "stationary_distribution = egt.utils.calculate_stationary_distribution(transition_matrix.transpose())\n",
    "stationary_distribution"
   ]
  },
  {
   "cell_type": "code",
   "execution_count": null,
   "id": "85ee9210-06d1-4255-9604-44f94df3ef7b",
   "metadata": {},
   "outputs": [],
   "source": [
    "fig, ax = plt.subplots(figsize=(5, 5), dpi=150)\n",
    "G = egt.plotting.draw_invasion_diagram(strategy_labels,\n",
    "                                              1/Z, fixation_probabilities, stationary_distribution,\n",
    "                                              node_size=1000,\n",
    "                                              font_size_node_labels=8,\n",
    "                                              font_size_edge_labels=8,\n",
    "                                              font_size_sd_labels=8,\n",
    "                                              edge_width=1,\n",
    "                                              min_strategy_frequency=0.00001,\n",
    "                                              ax=ax)\n",
    "plt.axis('off')\n",
    "plt.show() # display"
   ]
  },
  {
   "cell_type": "code",
   "execution_count": null,
   "id": "6ca9ff8b-7a6e-429d-94a5-92ec6467a8a5",
   "metadata": {},
   "outputs": [],
   "source": [
    "from tqdm import tqdm\n",
    "epss=np.linspace(0, 1.5, 30)\n",
    "sds=[]\n",
    "\n",
    "for eps in tqdm(epss):\n",
    "    A = np.array([\n",
    "        [ R-(eps/2), R-eps,0,S+delta-eps,R-eps],\n",
    "        [R,R,S,S,S],\n",
    "        [0,T,P,P,P],\n",
    "        [T-delta,T,P,P,P],\n",
    "        [R,T,P,P,P],\n",
    "    ])\n",
    "    game = egt.games.Matrix2PlayerGameHolder(5, A)\n",
    "    evolver = egt.analytical.PairwiseComparison(Z, game)\n",
    "    transition_matrix,fixation_probabilities = evolver.calculate_transition_and_fixation_matrix_sml(beta)\n",
    "    stationary_distribution = egt.utils.calculate_stationary_distribution(transition_matrix.transpose())\n",
    "    sds.append(stationary_distribution)\n",
    "\n",
    "sds = np.asarray(sds)\n",
    "sds"
   ]
  },
  {
   "cell_type": "code",
   "execution_count": null,
   "id": "3c31d916-2071-4b74-8316-de142fdb3a4b",
   "metadata": {},
   "outputs": [],
   "source": [
    "import pandas as pd\n",
    "import seaborn as sns\n",
    "\n",
    "labels = ['epsilon'] + strategy_labels\n",
    "markers = ['o', 'x', 'v', '^', 'X', '*', 'h', '1']\n",
    "#colors=colors = sns.color_palette(\"icefire\", 8)\n",
    "\n",
    "fig, ax = plt.subplots(figsize=(7, 5))\n",
    "\n",
    "for i in range(5):\n",
    "    ax.plot(epss, sds[:,i],linewidth=2,label=strategy_labels[i], marker=markers[i])\n",
    "\n",
    "ax = plt.gca()\n",
    "ax.set_ylim(-0.01, 0.9)\n",
    "ax.set_ylabel('Stationary distribution', fontsize=14)\n",
    "ax.set_xlabel('Commitment cost $\\epsilon$', fontsize=14)\n",
    "plt.legend(title=\"Strategy\", loc='upper right', bbox_to_anchor=(1.4, 1), frameon=False, fontsize=12,\n",
    "          title_fontsize=12)\n",
    "\n",
    "plt.tight_layout()\n",
    "plt.show()\n",
    "fig.savefig(\n",
    "    f\"./commitment_delta_{delta}_Z_{Z}_beta_{beta}.png\",\n",
    "    bbox_inches='tight', dpi=300)"
   ]
  },
  {
   "cell_type": "code",
   "execution_count": null,
   "id": "3f37aeb7-aff3-4511-b41e-7471f46454c9",
   "metadata": {},
   "outputs": [],
   "source": []
  },
  {
   "cell_type": "code",
   "execution_count": null,
   "id": "221f5b17-dd68-4089-86cc-d1be768f3182",
   "metadata": {},
   "outputs": [],
   "source": []
  }
 ],
 "metadata": {
  "kernelspec": {
   "display_name": "Python (Learning Dynamics Env)",
   "language": "python",
   "name": "learning_dynamics_env"
  },
  "language_info": {
   "codemirror_mode": {
    "name": "ipython",
    "version": 3
   },
   "file_extension": ".py",
   "mimetype": "text/x-python",
   "name": "python",
   "nbconvert_exporter": "python",
   "pygments_lexer": "ipython3",
   "version": "3.12.3"
  }
 },
 "nbformat": 4,
 "nbformat_minor": 5
}
